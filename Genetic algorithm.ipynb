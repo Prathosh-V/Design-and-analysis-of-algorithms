{
 "cells": [
  {
   "cell_type": "markdown",
   "id": "5851a69f",
   "metadata": {},
   "source": [
    "### Importing packages"
   ]
  },
  {
   "cell_type": "code",
   "execution_count": 1,
   "id": "bb4d28a1",
   "metadata": {},
   "outputs": [],
   "source": [
    "import torch\n",
    "import torch.nn as nn\n",
    "from torch.optim import SGD,Adam\n",
    "import pandas as pd\n",
    "import numpy as np\n",
    "import matplotlib.pyplot as plt"
   ]
  },
  {
   "cell_type": "markdown",
   "id": "a79cb75c",
   "metadata": {},
   "source": [
    "### Fetching essential features"
   ]
  },
  {
   "cell_type": "code",
   "execution_count": 2,
   "id": "b88f4676",
   "metadata": {},
   "outputs": [
    {
     "data": {
      "text/html": [
       "<div>\n",
       "<style scoped>\n",
       "    .dataframe tbody tr th:only-of-type {\n",
       "        vertical-align: middle;\n",
       "    }\n",
       "\n",
       "    .dataframe tbody tr th {\n",
       "        vertical-align: top;\n",
       "    }\n",
       "\n",
       "    .dataframe thead th {\n",
       "        text-align: right;\n",
       "    }\n",
       "</style>\n",
       "<table border=\"1\" class=\"dataframe\">\n",
       "  <thead>\n",
       "    <tr style=\"text-align: right;\">\n",
       "      <th></th>\n",
       "      <th>ID</th>\n",
       "      <th>Age</th>\n",
       "      <th>Experience</th>\n",
       "      <th>Income</th>\n",
       "      <th>ZIP Code</th>\n",
       "      <th>Family</th>\n",
       "      <th>CCAvg</th>\n",
       "      <th>Education</th>\n",
       "      <th>Mortgage</th>\n",
       "      <th>Personal Loan</th>\n",
       "      <th>Securities Account</th>\n",
       "      <th>CD Account</th>\n",
       "      <th>Online</th>\n",
       "      <th>CreditCard</th>\n",
       "    </tr>\n",
       "  </thead>\n",
       "  <tbody>\n",
       "    <tr>\n",
       "      <th>0</th>\n",
       "      <td>1</td>\n",
       "      <td>25</td>\n",
       "      <td>1</td>\n",
       "      <td>49</td>\n",
       "      <td>91107</td>\n",
       "      <td>4</td>\n",
       "      <td>1.6</td>\n",
       "      <td>1</td>\n",
       "      <td>0</td>\n",
       "      <td>0</td>\n",
       "      <td>1</td>\n",
       "      <td>0</td>\n",
       "      <td>0</td>\n",
       "      <td>0</td>\n",
       "    </tr>\n",
       "    <tr>\n",
       "      <th>1</th>\n",
       "      <td>2</td>\n",
       "      <td>45</td>\n",
       "      <td>19</td>\n",
       "      <td>34</td>\n",
       "      <td>90089</td>\n",
       "      <td>3</td>\n",
       "      <td>1.5</td>\n",
       "      <td>1</td>\n",
       "      <td>0</td>\n",
       "      <td>0</td>\n",
       "      <td>1</td>\n",
       "      <td>0</td>\n",
       "      <td>0</td>\n",
       "      <td>0</td>\n",
       "    </tr>\n",
       "    <tr>\n",
       "      <th>2</th>\n",
       "      <td>3</td>\n",
       "      <td>39</td>\n",
       "      <td>15</td>\n",
       "      <td>11</td>\n",
       "      <td>94720</td>\n",
       "      <td>1</td>\n",
       "      <td>1.0</td>\n",
       "      <td>1</td>\n",
       "      <td>0</td>\n",
       "      <td>0</td>\n",
       "      <td>0</td>\n",
       "      <td>0</td>\n",
       "      <td>0</td>\n",
       "      <td>0</td>\n",
       "    </tr>\n",
       "    <tr>\n",
       "      <th>3</th>\n",
       "      <td>4</td>\n",
       "      <td>35</td>\n",
       "      <td>9</td>\n",
       "      <td>100</td>\n",
       "      <td>94112</td>\n",
       "      <td>1</td>\n",
       "      <td>2.7</td>\n",
       "      <td>2</td>\n",
       "      <td>0</td>\n",
       "      <td>0</td>\n",
       "      <td>0</td>\n",
       "      <td>0</td>\n",
       "      <td>0</td>\n",
       "      <td>0</td>\n",
       "    </tr>\n",
       "    <tr>\n",
       "      <th>4</th>\n",
       "      <td>5</td>\n",
       "      <td>35</td>\n",
       "      <td>8</td>\n",
       "      <td>45</td>\n",
       "      <td>91330</td>\n",
       "      <td>4</td>\n",
       "      <td>1.0</td>\n",
       "      <td>2</td>\n",
       "      <td>0</td>\n",
       "      <td>0</td>\n",
       "      <td>0</td>\n",
       "      <td>0</td>\n",
       "      <td>0</td>\n",
       "      <td>1</td>\n",
       "    </tr>\n",
       "  </tbody>\n",
       "</table>\n",
       "</div>"
      ],
      "text/plain": [
       "   ID  Age  Experience  Income  ZIP Code  Family  CCAvg  Education  Mortgage  \\\n",
       "0   1   25           1      49     91107       4    1.6          1         0   \n",
       "1   2   45          19      34     90089       3    1.5          1         0   \n",
       "2   3   39          15      11     94720       1    1.0          1         0   \n",
       "3   4   35           9     100     94112       1    2.7          2         0   \n",
       "4   5   35           8      45     91330       4    1.0          2         0   \n",
       "\n",
       "   Personal Loan  Securities Account  CD Account  Online  CreditCard  \n",
       "0              0                   1           0       0           0  \n",
       "1              0                   1           0       0           0  \n",
       "2              0                   0           0       0           0  \n",
       "3              0                   0           0       0           0  \n",
       "4              0                   0           0       0           1  "
      ]
     },
     "execution_count": 2,
     "metadata": {},
     "output_type": "execute_result"
    }
   ],
   "source": [
    "df=pd.read_csv(r\"C:\\Users\\Micro\\Downloads\\archive (3)\\Bank_Personal_Loan_Modelling.csv\")\n",
    "df.head()"
   ]
  },
  {
   "cell_type": "code",
   "execution_count": 3,
   "id": "54db5596",
   "metadata": {},
   "outputs": [
    {
     "data": {
      "text/plain": [
       "Index(['ID', 'Age', 'Experience', 'Income', 'ZIP Code', 'Family', 'CCAvg',\n",
       "       'Education', 'Mortgage', 'Personal Loan', 'Securities Account',\n",
       "       'CD Account', 'Online', 'CreditCard'],\n",
       "      dtype='object')"
      ]
     },
     "execution_count": 3,
     "metadata": {},
     "output_type": "execute_result"
    }
   ],
   "source": [
    "col=df.columns\n",
    "col"
   ]
  },
  {
   "cell_type": "code",
   "execution_count": 4,
   "id": "b661f9ed",
   "metadata": {},
   "outputs": [],
   "source": [
    "col=['Age','Experience','Income','Family','CCAvg','Education','Mortgage','Securities Account','CD Account',\\\n",
    " 'Online','CreditCard','Personal Loan']\n",
    "df=df[col]"
   ]
  },
  {
   "cell_type": "markdown",
   "id": "9eff97a4",
   "metadata": {},
   "source": [
    "### Checking for class imbalance"
   ]
  },
  {
   "cell_type": "code",
   "execution_count": 5,
   "id": "38b1b1da",
   "metadata": {},
   "outputs": [
    {
     "data": {
      "text/plain": [
       "0    4520\n",
       "1     480\n",
       "Name: Personal Loan, dtype: int64"
      ]
     },
     "execution_count": 5,
     "metadata": {},
     "output_type": "execute_result"
    }
   ],
   "source": [
    "df[\"Personal Loan\"].value_counts()"
   ]
  },
  {
   "cell_type": "markdown",
   "id": "d24cd4b7",
   "metadata": {},
   "source": [
    "### Standardization"
   ]
  },
  {
   "cell_type": "code",
   "execution_count": 6,
   "id": "31462bd2",
   "metadata": {},
   "outputs": [],
   "source": [
    "x=df.iloc[:,:-1].values\n",
    "y=df.iloc[:,-1].values"
   ]
  },
  {
   "cell_type": "code",
   "execution_count": 7,
   "id": "f42411dd",
   "metadata": {},
   "outputs": [],
   "source": [
    "from sklearn.preprocessing import StandardScaler\n",
    "sc=StandardScaler()\n",
    "x=sc.fit_transform(x)"
   ]
  },
  {
   "cell_type": "markdown",
   "id": "f2f5e916",
   "metadata": {},
   "source": [
    "### Resolving class imbalance"
   ]
  },
  {
   "cell_type": "code",
   "execution_count": 8,
   "id": "277da118",
   "metadata": {},
   "outputs": [],
   "source": [
    "from imblearn.over_sampling import SMOTE\n",
    "smote=SMOTE()\n",
    "x,y=smote.fit_resample(x,y)"
   ]
  },
  {
   "cell_type": "code",
   "execution_count": 9,
   "id": "30402698",
   "metadata": {},
   "outputs": [
    {
     "data": {
      "text/plain": [
       "(9040, 11)"
      ]
     },
     "execution_count": 9,
     "metadata": {},
     "output_type": "execute_result"
    }
   ],
   "source": [
    "x.shape"
   ]
  },
  {
   "cell_type": "code",
   "execution_count": 10,
   "id": "bfb25296",
   "metadata": {},
   "outputs": [
    {
     "data": {
      "text/plain": [
       "(9040, 1)"
      ]
     },
     "execution_count": 10,
     "metadata": {},
     "output_type": "execute_result"
    }
   ],
   "source": [
    "y=y.reshape((9040,1))\n",
    "y.shape"
   ]
  },
  {
   "cell_type": "markdown",
   "id": "ff4c1fd5",
   "metadata": {},
   "source": [
    "### Constructing NN"
   ]
  },
  {
   "cell_type": "code",
   "execution_count": 11,
   "id": "fe503d92",
   "metadata": {},
   "outputs": [],
   "source": [
    "x=torch.tensor(x,dtype=torch.float32)\n",
    "y=torch.tensor(y,dtype=torch.float32)"
   ]
  },
  {
   "cell_type": "code",
   "execution_count": 12,
   "id": "4551d766",
   "metadata": {},
   "outputs": [],
   "source": [
    "from sklearn.model_selection import train_test_split\n",
    "x_train,x_test,y_train,y_test=train_test_split(x,y,test_size=0.25,random_state=42)"
   ]
  },
  {
   "cell_type": "code",
   "execution_count": 13,
   "id": "68026a00",
   "metadata": {},
   "outputs": [],
   "source": [
    "model= nn.Sequential(nn.Linear(11,5) ,nn.Sigmoid(), nn.Linear(5,1), nn.Sigmoid())"
   ]
  },
  {
   "cell_type": "code",
   "execution_count": 14,
   "id": "e0198d3d",
   "metadata": {},
   "outputs": [],
   "source": [
    "loss_fn=nn.BCELoss()"
   ]
  },
  {
   "cell_type": "code",
   "execution_count": 15,
   "id": "0839cf90",
   "metadata": {},
   "outputs": [
    {
     "name": "stdout",
     "output_type": "stream",
     "text": [
      "0.weight\n",
      "0.bias\n",
      "2.weight\n",
      "2.bias\n"
     ]
    }
   ],
   "source": [
    "for i in model.state_dict():\n",
    "    print(i)"
   ]
  },
  {
   "cell_type": "markdown",
   "id": "32bb0f34",
   "metadata": {},
   "source": [
    "### Applying genetic algorithm\n",
    "- Population : numbers that fall under standard normal curve\n",
    "- Chromosomes/Individuals : weights to be optimised for the neural network\n",
    "- Fitness function : the loss function whose value is to be minimised\n",
    "- Cross over: single point crossover\n",
    "- Mutation : adding noise to the weights assuming it to give better results"
   ]
  },
  {
   "cell_type": "code",
   "execution_count": 16,
   "id": "2f495cd5",
   "metadata": {},
   "outputs": [],
   "source": [
    "def generate_chromo(n):\n",
    "    chromosomes=[]\n",
    "    for i in range(n):\n",
    "        t=np.random.normal(0,1,66)\n",
    "        chromosomes.append(t)\n",
    "    chromosomes=np.array(chromosomes)\n",
    "    return chromosomes"
   ]
  },
  {
   "cell_type": "code",
   "execution_count": 17,
   "id": "87df63c6",
   "metadata": {},
   "outputs": [],
   "source": [
    "def fitness(chromosomes,model,x,y):\n",
    "    fit=[]\n",
    "    for i in chromosomes:\n",
    "        sd={}\n",
    "        sd[\"0.weight\"]=torch.tensor(i[:55].reshape(5,11))\n",
    "        sd[\"0.bias\"]=torch.tensor(i[55:60])\n",
    "        sd[\"2.weight\"]=torch.tensor(i[60:65].reshape(1,5))\n",
    "        sd[\"2.bias\"]=torch.tensor(i[65:])\n",
    "        model.load_state_dict(sd)\n",
    "        pred=model(x)\n",
    "        loss=loss_fn(pred,y)\n",
    "        fit.append(loss.item())\n",
    "    fit=np.array(fit)\n",
    "    ind=np.argsort(fit)\n",
    "    print(np.amin(fit))\n",
    "    return chromosomes[ind[:4]]"
   ]
  },
  {
   "cell_type": "code",
   "execution_count": 18,
   "id": "644b9eef",
   "metadata": {},
   "outputs": [],
   "source": [
    "def crossover(fit_chromo):\n",
    "    new=[]\n",
    "    for i in range(0,fit_chromo.shape[0],2):\n",
    "        t1=fit_chromo[i][:33]\n",
    "        t2=fit_chromo[i][33:]\n",
    "        t3=fit_chromo[i+1][:33]\n",
    "        t4=fit_chromo[i+1][33:]\n",
    "        temp1=np.append(t1,t4)\n",
    "        temp2=np.append(t3,t2)\n",
    "        new.append(temp1)\n",
    "        new.append(temp2)\n",
    "    return np.array(new)"
   ]
  },
  {
   "cell_type": "code",
   "execution_count": 19,
   "id": "426dc8c9",
   "metadata": {},
   "outputs": [],
   "source": [
    "def mutation(fit_chromo):\n",
    "    for i in range(fit_chromo.shape[0]):\n",
    "        idx=np.random.randint(low=0,high=66,size=(1,30))\n",
    "        noise=np.random.randint(low=-1,high=1,size=(1,30))\n",
    "        noise=noise.astype(\"float\")/100\n",
    "        for j in range(len(idx)):\n",
    "            fit_chromo[i,idx[j]]+=noise[j]\n",
    "        return fit_chromo"
   ]
  },
  {
   "cell_type": "code",
   "execution_count": 28,
   "id": "04907bed",
   "metadata": {},
   "outputs": [
    {
     "name": "stdout",
     "output_type": "stream",
     "text": [
      "0.7429754734039307\n",
      "0.5486286282539368\n",
      "0.6238099932670593\n",
      "0.6229928731918335\n",
      "0.5488134026527405\n",
      "0.6234692335128784\n",
      "0.5491083860397339\n",
      "0.6238861680030823\n",
      "0.5496754050254822\n",
      "0.6645413041114807\n",
      "0.7110646963119507\n",
      "0.6478090286254883\n",
      "0.702497661113739\n",
      "0.668057382106781\n",
      "0.6352988481521606\n",
      "0.6746240854263306\n",
      "0.6352784633636475\n",
      "0.6749588251113892\n",
      "0.6356906890869141\n",
      "0.6750803589820862\n",
      "0.635975182056427\n",
      "0.6273770928382874\n",
      "0.6360623836517334\n",
      "0.666666567325592\n",
      "0.6820358037948608\n",
      "0.6791265606880188\n",
      "0.6360504627227783\n",
      "0.6422464847564697\n",
      "0.603223979473114\n",
      "0.6494840979576111\n",
      "0.6177946925163269\n",
      "0.6496745347976685\n",
      "0.5253025889396667\n",
      "0.6030543446540833\n",
      "0.6492468118667603\n",
      "0.5250791311264038\n",
      "0.602475643157959\n",
      "0.647662341594696\n",
      "0.5250300168991089\n",
      "0.6022347211837769\n",
      "0.5249078273773193\n",
      "0.602240264415741\n",
      "0.6314452290534973\n",
      "0.6372807621955872\n",
      "0.5364819169044495\n",
      "0.5255750417709351\n",
      "0.6239591240882874\n",
      "0.5360823273658752\n",
      "0.5258689522743225\n",
      "0.5683894157409668\n",
      "0.5259986519813538\n",
      "0.5684113502502441\n",
      "0.526064395904541\n",
      "0.5682812333106995\n",
      "0.5262752175331116\n",
      "0.5680723190307617\n",
      "0.5262729525566101\n",
      "0.5678718090057373\n",
      "0.5261929631233215\n",
      "0.5672599077224731\n",
      "0.5261500477790833\n",
      "0.5667235851287842\n",
      "0.5260086059570312\n",
      "0.5661438703536987\n",
      "0.5259674191474915\n",
      "0.5659850239753723\n",
      "0.5260272026062012\n",
      "0.5657256245613098\n",
      "0.5259819626808167\n",
      "0.565599799156189\n",
      "0.5259512662887573\n",
      "0.5650614500045776\n",
      "0.5527947545051575\n",
      "0.5624057650566101\n",
      "0.5648064017295837\n",
      "0.5527431964874268\n",
      "0.5624456405639648\n",
      "0.5520094633102417\n",
      "0.5621801614761353\n",
      "0.5508549213409424\n"
     ]
    }
   ],
   "source": [
    "generations=80\n",
    "for i in range(generations):\n",
    "    if(i==0):\n",
    "        chromo=generate_chromo(10)\n",
    "    else:\n",
    "        chromo=np.append(fit_chromo,generate_chromo(2)) #4 offsprings and 2 random\n",
    "        chromo=chromo.reshape(6,66)\n",
    "    fit_chromo=fitness(chromo,model,x,y)\n",
    "    fit_chromo=crossover(fit_chromo)\n",
    "    fit_chromo=mutation(fit_chromo)\n",
    "    \n",
    "#Loss values over generations:"
   ]
  },
  {
   "cell_type": "code",
   "execution_count": null,
   "id": "5dd43980",
   "metadata": {},
   "outputs": [],
   "source": []
  }
 ],
 "metadata": {
  "kernelspec": {
   "display_name": "Python 3 (ipykernel)",
   "language": "python",
   "name": "python3"
  },
  "language_info": {
   "codemirror_mode": {
    "name": "ipython",
    "version": 3
   },
   "file_extension": ".py",
   "mimetype": "text/x-python",
   "name": "python",
   "nbconvert_exporter": "python",
   "pygments_lexer": "ipython3",
   "version": "3.9.7"
  }
 },
 "nbformat": 4,
 "nbformat_minor": 5
}
