{
 "cells": [
  {
   "cell_type": "markdown",
   "id": "5851a69f",
   "metadata": {},
   "source": [
    "### Importing packages"
   ]
  },
  {
   "cell_type": "code",
   "execution_count": 1,
   "id": "bb4d28a1",
   "metadata": {},
   "outputs": [],
   "source": [
    "import torch\n",
    "import torch.nn as nn\n",
    "from torch.optim import SGD,Adam\n",
    "import pandas as pd\n",
    "import numpy as np\n",
    "import matplotlib.pyplot as plt"
   ]
  },
  {
   "cell_type": "markdown",
   "id": "a79cb75c",
   "metadata": {},
   "source": [
    "### Fetching essential features"
   ]
  },
  {
   "cell_type": "code",
   "execution_count": 2,
   "id": "b88f4676",
   "metadata": {},
   "outputs": [
    {
     "data": {
      "text/html": [
       "<div>\n",
       "<style scoped>\n",
       "    .dataframe tbody tr th:only-of-type {\n",
       "        vertical-align: middle;\n",
       "    }\n",
       "\n",
       "    .dataframe tbody tr th {\n",
       "        vertical-align: top;\n",
       "    }\n",
       "\n",
       "    .dataframe thead th {\n",
       "        text-align: right;\n",
       "    }\n",
       "</style>\n",
       "<table border=\"1\" class=\"dataframe\">\n",
       "  <thead>\n",
       "    <tr style=\"text-align: right;\">\n",
       "      <th></th>\n",
       "      <th>ID</th>\n",
       "      <th>Age</th>\n",
       "      <th>Experience</th>\n",
       "      <th>Income</th>\n",
       "      <th>ZIP Code</th>\n",
       "      <th>Family</th>\n",
       "      <th>CCAvg</th>\n",
       "      <th>Education</th>\n",
       "      <th>Mortgage</th>\n",
       "      <th>Personal Loan</th>\n",
       "      <th>Securities Account</th>\n",
       "      <th>CD Account</th>\n",
       "      <th>Online</th>\n",
       "      <th>CreditCard</th>\n",
       "    </tr>\n",
       "  </thead>\n",
       "  <tbody>\n",
       "    <tr>\n",
       "      <th>0</th>\n",
       "      <td>1</td>\n",
       "      <td>25</td>\n",
       "      <td>1</td>\n",
       "      <td>49</td>\n",
       "      <td>91107</td>\n",
       "      <td>4</td>\n",
       "      <td>1.6</td>\n",
       "      <td>1</td>\n",
       "      <td>0</td>\n",
       "      <td>0</td>\n",
       "      <td>1</td>\n",
       "      <td>0</td>\n",
       "      <td>0</td>\n",
       "      <td>0</td>\n",
       "    </tr>\n",
       "    <tr>\n",
       "      <th>1</th>\n",
       "      <td>2</td>\n",
       "      <td>45</td>\n",
       "      <td>19</td>\n",
       "      <td>34</td>\n",
       "      <td>90089</td>\n",
       "      <td>3</td>\n",
       "      <td>1.5</td>\n",
       "      <td>1</td>\n",
       "      <td>0</td>\n",
       "      <td>0</td>\n",
       "      <td>1</td>\n",
       "      <td>0</td>\n",
       "      <td>0</td>\n",
       "      <td>0</td>\n",
       "    </tr>\n",
       "    <tr>\n",
       "      <th>2</th>\n",
       "      <td>3</td>\n",
       "      <td>39</td>\n",
       "      <td>15</td>\n",
       "      <td>11</td>\n",
       "      <td>94720</td>\n",
       "      <td>1</td>\n",
       "      <td>1.0</td>\n",
       "      <td>1</td>\n",
       "      <td>0</td>\n",
       "      <td>0</td>\n",
       "      <td>0</td>\n",
       "      <td>0</td>\n",
       "      <td>0</td>\n",
       "      <td>0</td>\n",
       "    </tr>\n",
       "    <tr>\n",
       "      <th>3</th>\n",
       "      <td>4</td>\n",
       "      <td>35</td>\n",
       "      <td>9</td>\n",
       "      <td>100</td>\n",
       "      <td>94112</td>\n",
       "      <td>1</td>\n",
       "      <td>2.7</td>\n",
       "      <td>2</td>\n",
       "      <td>0</td>\n",
       "      <td>0</td>\n",
       "      <td>0</td>\n",
       "      <td>0</td>\n",
       "      <td>0</td>\n",
       "      <td>0</td>\n",
       "    </tr>\n",
       "    <tr>\n",
       "      <th>4</th>\n",
       "      <td>5</td>\n",
       "      <td>35</td>\n",
       "      <td>8</td>\n",
       "      <td>45</td>\n",
       "      <td>91330</td>\n",
       "      <td>4</td>\n",
       "      <td>1.0</td>\n",
       "      <td>2</td>\n",
       "      <td>0</td>\n",
       "      <td>0</td>\n",
       "      <td>0</td>\n",
       "      <td>0</td>\n",
       "      <td>0</td>\n",
       "      <td>1</td>\n",
       "    </tr>\n",
       "  </tbody>\n",
       "</table>\n",
       "</div>"
      ],
      "text/plain": [
       "   ID  Age  Experience  Income  ZIP Code  Family  CCAvg  Education  Mortgage  \\\n",
       "0   1   25           1      49     91107       4    1.6          1         0   \n",
       "1   2   45          19      34     90089       3    1.5          1         0   \n",
       "2   3   39          15      11     94720       1    1.0          1         0   \n",
       "3   4   35           9     100     94112       1    2.7          2         0   \n",
       "4   5   35           8      45     91330       4    1.0          2         0   \n",
       "\n",
       "   Personal Loan  Securities Account  CD Account  Online  CreditCard  \n",
       "0              0                   1           0       0           0  \n",
       "1              0                   1           0       0           0  \n",
       "2              0                   0           0       0           0  \n",
       "3              0                   0           0       0           0  \n",
       "4              0                   0           0       0           1  "
      ]
     },
     "execution_count": 2,
     "metadata": {},
     "output_type": "execute_result"
    }
   ],
   "source": [
    "df=pd.read_csv(r\"C:\\Users\\Micro\\Downloads\\archive (3)\\Bank_Personal_Loan_Modelling.csv\")\n",
    "df.head()"
   ]
  },
  {
   "cell_type": "code",
   "execution_count": 3,
   "id": "54db5596",
   "metadata": {},
   "outputs": [
    {
     "data": {
      "text/plain": [
       "Index(['ID', 'Age', 'Experience', 'Income', 'ZIP Code', 'Family', 'CCAvg',\n",
       "       'Education', 'Mortgage', 'Personal Loan', 'Securities Account',\n",
       "       'CD Account', 'Online', 'CreditCard'],\n",
       "      dtype='object')"
      ]
     },
     "execution_count": 3,
     "metadata": {},
     "output_type": "execute_result"
    }
   ],
   "source": [
    "col=df.columns\n",
    "col"
   ]
  },
  {
   "cell_type": "code",
   "execution_count": 4,
   "id": "b661f9ed",
   "metadata": {},
   "outputs": [],
   "source": [
    "col=['Age','Experience','Income','Family','CCAvg','Education','Mortgage','Securities Account','CD Account',\\\n",
    " 'Online','CreditCard','Personal Loan']\n",
    "df=df[col]"
   ]
  },
  {
   "cell_type": "markdown",
   "id": "9eff97a4",
   "metadata": {},
   "source": [
    "### Checking for class imbalance"
   ]
  },
  {
   "cell_type": "code",
   "execution_count": 5,
   "id": "38b1b1da",
   "metadata": {},
   "outputs": [
    {
     "data": {
      "text/plain": [
       "0    4520\n",
       "1     480\n",
       "Name: Personal Loan, dtype: int64"
      ]
     },
     "execution_count": 5,
     "metadata": {},
     "output_type": "execute_result"
    }
   ],
   "source": [
    "df[\"Personal Loan\"].value_counts()"
   ]
  },
  {
   "cell_type": "markdown",
   "id": "d24cd4b7",
   "metadata": {},
   "source": [
    "### Standardization"
   ]
  },
  {
   "cell_type": "code",
   "execution_count": 6,
   "id": "31462bd2",
   "metadata": {},
   "outputs": [],
   "source": [
    "x=df.iloc[:,:-1].values\n",
    "y=df.iloc[:,-1].values"
   ]
  },
  {
   "cell_type": "code",
   "execution_count": 7,
   "id": "f42411dd",
   "metadata": {},
   "outputs": [],
   "source": [
    "from sklearn.preprocessing import StandardScaler\n",
    "sc=StandardScaler()\n",
    "x=sc.fit_transform(x)"
   ]
  },
  {
   "cell_type": "markdown",
   "id": "f2f5e916",
   "metadata": {},
   "source": [
    "### Resolving class imbalance"
   ]
  },
  {
   "cell_type": "code",
   "execution_count": 8,
   "id": "277da118",
   "metadata": {},
   "outputs": [],
   "source": [
    "from imblearn.over_sampling import SMOTE\n",
    "smote=SMOTE()\n",
    "x,y=smote.fit_resample(x,y)"
   ]
  },
  {
   "cell_type": "code",
   "execution_count": 9,
   "id": "30402698",
   "metadata": {},
   "outputs": [
    {
     "data": {
      "text/plain": [
       "(9040, 11)"
      ]
     },
     "execution_count": 9,
     "metadata": {},
     "output_type": "execute_result"
    }
   ],
   "source": [
    "x.shape"
   ]
  },
  {
   "cell_type": "code",
   "execution_count": 10,
   "id": "bfb25296",
   "metadata": {},
   "outputs": [
    {
     "data": {
      "text/plain": [
       "(9040, 1)"
      ]
     },
     "execution_count": 10,
     "metadata": {},
     "output_type": "execute_result"
    }
   ],
   "source": [
    "y=y.reshape((9040,1))\n",
    "y.shape"
   ]
  },
  {
   "cell_type": "markdown",
   "id": "ff4c1fd5",
   "metadata": {},
   "source": [
    "### Constructing NN"
   ]
  },
  {
   "cell_type": "code",
   "execution_count": 11,
   "id": "fe503d92",
   "metadata": {},
   "outputs": [],
   "source": [
    "x=torch.tensor(x,dtype=torch.float32)\n",
    "y=torch.tensor(y,dtype=torch.float32)"
   ]
  },
  {
   "cell_type": "code",
   "execution_count": 12,
   "id": "0ca44283",
   "metadata": {},
   "outputs": [],
   "source": [
    "from sklearn.model_selection import train_test_split\n",
    "x_train,x_test,y_train,y_test=train_test_split(x,y,test_size=0.25,random_state=42)"
   ]
  },
  {
   "cell_type": "code",
   "execution_count": 13,
   "id": "68026a00",
   "metadata": {},
   "outputs": [],
   "source": [
    "model= nn.Sequential(nn.Linear(11,5) ,nn.Sigmoid(), nn.Linear(5,1), nn.Sigmoid())"
   ]
  },
  {
   "cell_type": "code",
   "execution_count": 14,
   "id": "e0198d3d",
   "metadata": {},
   "outputs": [],
   "source": [
    "loss_fn=nn.BCELoss()"
   ]
  },
  {
   "cell_type": "code",
   "execution_count": 15,
   "id": "8a036e16",
   "metadata": {},
   "outputs": [
    {
     "name": "stdout",
     "output_type": "stream",
     "text": [
      "0.weight\n",
      "0.bias\n",
      "2.weight\n",
      "2.bias\n"
     ]
    }
   ],
   "source": [
    "for i in model.state_dict():\n",
    "    print(i)"
   ]
  },
  {
   "cell_type": "markdown",
   "id": "32bb0f34",
   "metadata": {},
   "source": [
    "### Particle swarm optimization"
   ]
  },
  {
   "cell_type": "code",
   "execution_count": 241,
   "id": "bc32b0c0",
   "metadata": {},
   "outputs": [],
   "source": [
    "iterations=50\n",
    "particles_n=10\n",
    "particles=[]\n",
    "for i in range(particles_n):\n",
    "    temp=np.random.normal(0,1,66)\n",
    "    particles.append(temp)\n",
    "particles=np.array(particles)\n",
    "velocity=np.random.normal(0,1,(particles_n))\n",
    "it_particles=[]"
   ]
  },
  {
   "cell_type": "code",
   "execution_count": 242,
   "id": "e1fb6e1c",
   "metadata": {},
   "outputs": [],
   "source": [
    "p=np.full((iterations,particles_n),100).astype(\"float\")\n",
    "p_best_ind=np.full(particles_n,100).astype(\"int\")"
   ]
  },
  {
   "cell_type": "code",
   "execution_count": 243,
   "id": "8d458a52",
   "metadata": {},
   "outputs": [],
   "source": [
    "def obj_fn(weights):\n",
    "    sd={}\n",
    "    sd[\"0.weight\"]=torch.tensor(weights[:55].reshape(5,11))\n",
    "    sd[\"0.bias\"]=torch.tensor(weights[55:60])\n",
    "    sd[\"2.weight\"]=torch.tensor(weights[60:65].reshape(1,5))\n",
    "    sd[\"2.bias\"]=torch.tensor(weights[65:])\n",
    "    model.load_state_dict(sd)\n",
    "    pred=model(x)\n",
    "    loss=loss_fn(pred,y)\n",
    "    return loss.item()"
   ]
  },
  {
   "cell_type": "code",
   "execution_count": 244,
   "id": "67fb764d",
   "metadata": {},
   "outputs": [],
   "source": [
    "w=0.9\n",
    "c1=0.2\n",
    "c2=0.4"
   ]
  },
  {
   "cell_type": "code",
   "execution_count": 245,
   "id": "4fcf1130",
   "metadata": {},
   "outputs": [],
   "source": [
    "for i in range(iterations):\n",
    "    r1=np.random.randn()/10\n",
    "    r2=np.random.randn()/10\n",
    "    it_particles.append(particles)\n",
    "    for j in range(particles_n):\n",
    "        p[i,j]=obj_fn(particles[j])\n",
    "        p_best_ind[j]=np.argmin(p[:,j])\n",
    "        p_best=it_particles[p_best_ind[j]][j]\n",
    "        particles[j]+=w*velocity[j]+c1*r1*np.absolute(p_best-particles[j])\n",
    "    t1=np.amin(p_best_ind) #best iteration\n",
    "    t2=np.argmin(p_best_ind) #best particle\n",
    "    g_best=it_particles[t1][t2]\n",
    "    for j in range(particles_n):\n",
    "        particles[j]+=c2*r2*np.absolute(g_best-particles[j])\n",
    "    it_particles.append(particles)\n",
    "    w=w-0.02"
   ]
  }
 ],
 "metadata": {
  "kernelspec": {
   "display_name": "Python 3 (ipykernel)",
   "language": "python",
   "name": "python3"
  },
  "language_info": {
   "codemirror_mode": {
    "name": "ipython",
    "version": 3
   },
   "file_extension": ".py",
   "mimetype": "text/x-python",
   "name": "python",
   "nbconvert_exporter": "python",
   "pygments_lexer": "ipython3",
   "version": "3.9.7"
  }
 },
 "nbformat": 4,
 "nbformat_minor": 5
}
